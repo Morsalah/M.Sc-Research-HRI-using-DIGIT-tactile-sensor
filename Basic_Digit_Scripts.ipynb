{
  "nbformat": 4,
  "nbformat_minor": 0,
  "metadata": {
    "colab": {
      "provenance": [],
      "authorship_tag": "ABX9TyNgKE/vLULTeMTbOYnJZYiC",
      "include_colab_link": true
    },
    "kernelspec": {
      "name": "python3",
      "display_name": "Python 3"
    },
    "language_info": {
      "name": "python"
    }
  },
  "cells": [
    {
      "cell_type": "markdown",
      "metadata": {
        "id": "view-in-github",
        "colab_type": "text"
      },
      "source": [
        "<a href=\"https://colab.research.google.com/github/Morsalah/M.Sc-Research-HRI-using-DIGIT-tactile-sensor/blob/main/Basic_Digit_Scripts.ipynb\" target=\"_parent\"><img src=\"https://colab.research.google.com/assets/colab-badge.svg\" alt=\"Open In Colab\"/></a>"
      ]
    },
    {
      "cell_type": "code",
      "execution_count": null,
      "metadata": {
        "id": "9mEErNME2HzJ"
      },
      "outputs": [],
      "source": [
        "import cv2\n",
        "import numpy as np\n",
        "from digit_interface.digit import Digit\n",
        "\n",
        "# Initialize the DIGIT sensor\n",
        "digit = Digit(\"D21114\")  # Replace with your actual serial number\n",
        "digit.connect()\n",
        "\n",
        "# Set resolution and frame rate\n",
        "#digit.set_resolution(Digit.VGA)  # Options: QVGA, VGA\n",
        "#digit.set_fps(Digit.FPS_30)      # Options: FPS_15, FPS_30, FPS_60\n",
        "\n",
        "print(\"Press 'q' to exit...\")\n",
        "\n",
        "while True:\n",
        "    # Get an image from the sensor\n",
        "    frame = digit.get_frame()\n",
        "\n",
        "    # Convert image to OpenCV format\n",
        "    image = np.array(frame)\n",
        "\n",
        "    # Display the image\n",
        "    cv2.imshow(\"DIGIT Sensor Image\", image)\n",
        "\n",
        "    # Exit when 'q' is pressed\n",
        "    if cv2.waitKey(1) & 0xFF == ord('q'):\n",
        "        break\n",
        "\n",
        "# Cleanup\n",
        "cv2.destroyAllWindows()\n"
      ]
    },
    {
      "cell_type": "code",
      "source": [
        "from digit import Digit\n",
        "from digit_interface import DigitHandler\n",
        "\n",
        "digits = DigitHandler.list_digits()\n",
        "\n",
        "# view digit information\n",
        "for digit_info in digits:\n",
        "    print(digit_info)\n",
        "\n",
        "d1 = Digit(\"D21114\") # Unique serial number\n",
        "d1.connect()\n",
        "d1.show_view()\n",
        "d1.disconnect()\n"
      ],
      "metadata": {
        "id": "ARie36ls2QI8"
      },
      "execution_count": null,
      "outputs": []
    },
    {
      "cell_type": "code",
      "source": [
        "import threading\n",
        "from digit import Digit\n",
        "from digit_interface import DigitHandler\n",
        "\n",
        "# List available digits\n",
        "digits = DigitHandler.list_digits()\n",
        "\n",
        "# View digit information\n",
        "for digit_info in digits:\n",
        "    print(digit_info)\n",
        "\n",
        "# Function to connect and show a digit's view\n",
        "def show_digit_view(serial_number):\n",
        "    digit = Digit(serial_number)\n",
        "    digit.connect()\n",
        "    digit.show_view()  # This is blocking, so we need threading\n",
        "    digit.disconnect()\n",
        "\n",
        "# Create threads for both digits\n",
        "t1 = threading.Thread(target=show_digit_view, args=(\"D21114\",))\n",
        "t2 = threading.Thread(target=show_digit_view, args=(\"D21115\",))\n",
        "\n",
        "# Start both threads\n",
        "t1.start()\n",
        "t2.start()\n",
        "\n",
        "# Wait for both threads to complete\n",
        "t1.join()\n",
        "t2.join()\n"
      ],
      "metadata": {
        "id": "aDV6DOND2Swb"
      },
      "execution_count": null,
      "outputs": []
    }
  ]
}