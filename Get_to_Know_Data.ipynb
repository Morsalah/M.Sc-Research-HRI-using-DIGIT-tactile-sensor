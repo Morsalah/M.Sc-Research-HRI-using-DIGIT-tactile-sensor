{
  "nbformat": 4,
  "nbformat_minor": 0,
  "metadata": {
    "colab": {
      "provenance": [],
      "authorship_tag": "ABX9TyMMyUPruuxfJQLTDo61WEQQ",
      "include_colab_link": true
    },
    "kernelspec": {
      "name": "python3",
      "display_name": "Python 3"
    },
    "language_info": {
      "name": "python"
    }
  },
  "cells": [
    {
      "cell_type": "markdown",
      "metadata": {
        "id": "view-in-github",
        "colab_type": "text"
      },
      "source": [
        "<a href=\"https://colab.research.google.com/github/Morsalah/M.Sc-Research-HRI-using-DIGIT-tactile-sensor/blob/main/Get_to_Know_Data.ipynb\" target=\"_parent\"><img src=\"https://colab.research.google.com/assets/colab-badge.svg\" alt=\"Open In Colab\"/></a>"
      ]
    },
    {
      "cell_type": "markdown",
      "source": [
        "data info"
      ],
      "metadata": {
        "id": "i-UpcZVZ5c2b"
      }
    },
    {
      "cell_type": "code",
      "execution_count": null,
      "metadata": {
        "id": "1Y0tzxYD5Th0"
      },
      "outputs": [],
      "source": [
        "import os\n",
        "import pandas as pd\n",
        "\n",
        "def walk_through_folders(base_path):\n",
        "    \"\"\"Walk through YES and NO folders and store structured output in a DataFrame.\"\"\"\n",
        "    folders = ['YES', 'NO']  # Explicitly define subdirectories\n",
        "    data = []\n",
        "\n",
        "    for folder in folders:\n",
        "        folder_path = os.path.join(base_path, folder)\n",
        "        if os.path.exists(folder_path):\n",
        "            for root, _, files in os.walk(folder_path):\n",
        "                for file in sorted(files):  # Ensures order consistency\n",
        "                    if file.lower().endswith(('png', 'jpg', 'jpeg')):  # Filter image files\n",
        "                        relative_path = os.path.relpath(os.path.join(root, file), base_path)\n",
        "                        data.append({'Folder': folder, 'Image_Path': relative_path})\n",
        "\n",
        "    # Create DataFrame\n",
        "    df = pd.DataFrame(data)\n",
        "    print(\"Captured Images Summary:\")\n",
        "    print(df)\n",
        "    return df\n",
        "\n",
        "if __name__ == \"__main__\":\n",
        "    base_directory = \"./captured_images\"  # Adjust based on your folder structure\n",
        "    df_images = walk_through_folders(base_directory)\n",
        "\n",
        "    # Save to CSV (optional)\n",
        "    df_images.to_csv(os.path.join(base_directory, \"captured_images_summary.csv\"), index=False)\n"
      ]
    },
    {
      "cell_type": "markdown",
      "source": [
        "view data distribution"
      ],
      "metadata": {
        "id": "8hWok8-M5hY_"
      }
    },
    {
      "cell_type": "code",
      "source": [
        "import os\n",
        "\n",
        "def count_images_in_subfolders(root_folder):\n",
        "    \"\"\"\n",
        "    Count the number of images in the YES and NO subfolders within the given root folder.\n",
        "    \"\"\"\n",
        "    # Define the subfolder names\n",
        "    subfolders = ['YES', 'NO']\n",
        "\n",
        "    # Initialize the count dictionary\n",
        "    image_count = {'YES': 0, 'NO': 0}\n",
        "\n",
        "    # Check if root folder exists\n",
        "    if not os.path.exists(root_folder):\n",
        "        print(\"Error: Root folder not found.\")\n",
        "        return\n",
        "\n",
        "    # Loop through the subfolders (YES, NO)\n",
        "    for subfolder in subfolders:\n",
        "        subfolder_path = os.path.join(root_folder, subfolder)\n",
        "\n",
        "        # Check if subfolder exists\n",
        "        if os.path.exists(subfolder_path):\n",
        "            # Count the image files in the subfolder\n",
        "            for root_dir, _, files in os.walk(subfolder_path):\n",
        "                # Filter out image files (e.g., .jpg, .png, .jpeg)\n",
        "                image_files = [file for file in files if file.lower().endswith(('.jpg', '.jpeg', '.png', '.gif', '.bmp'))]\n",
        "                image_count[subfolder] += len(image_files)\n",
        "\n",
        "    # Print the results\n",
        "    print(f\"Images in 'YES' folder: {image_count['YES']}\")\n",
        "    print(f\"Images in 'NO' folder: {image_count['NO']}\")\n",
        "    print(f\"Total images: {image_count['YES'] + image_count['NO']}\")\n",
        "\n",
        "# Example Usage\n",
        "if __name__ == \"__main__\":\n",
        "    # Specify the path to the captured_images folder\n",
        "    captured_images_folder = \"./captured_images\"\n",
        "    count_images_in_subfolders(captured_images_folder)\n"
      ],
      "metadata": {
        "id": "bTm_GdSO5j6m"
      },
      "execution_count": null,
      "outputs": []
    },
    {
      "cell_type": "markdown",
      "source": [
        "view image"
      ],
      "metadata": {
        "id": "kApCsn8K5mLe"
      }
    },
    {
      "cell_type": "code",
      "source": [
        "import os\n",
        "import cv2\n",
        "import numpy as np\n",
        "import torch\n",
        "import matplotlib.pyplot as plt\n",
        "import random\n",
        "\n",
        "def show_image(category):\n",
        "    \"\"\"\n",
        "    Display an image from the specified category (YES/NO) in the 'captured_images' folder.\n",
        "    \"\"\"\n",
        "    folder_path = os.path.join(\"captured_images\", category.upper())\n",
        "    if not os.path.exists(folder_path):\n",
        "        print(f\"Error: Folder '{folder_path}' not found.\")\n",
        "        return\n",
        "\n",
        "    images = [img for img in os.listdir(folder_path) if img.endswith(\".png\")]\n",
        "    if not images:\n",
        "        print(f\"No images found in {folder_path}\")\n",
        "        return\n",
        "\n",
        "    image_path = os.path.join(folder_path, images[0])\n",
        "    image = cv2.imread(image_path)\n",
        "    image_rgb = cv2.cvtColor(image, cv2.COLOR_BGR2RGB)\n",
        "\n",
        "    plt.imshow(image_rgb)\n",
        "    plt.title(f\"Class: {category}\")\n",
        "    plt.axis(\"off\")\n",
        "    plt.show()\n",
        "\n",
        "def show_image_info(image_path):\n",
        "    \"\"\"\n",
        "    Display image information including size, type, datatype, number of pixels, and channels.\n",
        "    \"\"\"\n",
        "    image = cv2.imread(image_path)\n",
        "    if image is None:\n",
        "        print(\"Error: Could not read image.\")\n",
        "        return\n",
        "\n",
        "    height, width, channels = image.shape\n",
        "    size = os.path.getsize(image_path)\n",
        "    dtype = image.dtype\n",
        "    total_pixels = height * width\n",
        "\n",
        "    print(f\"Image Path: {image_path}\")\n",
        "    print(f\"Size: {size} bytes\")\n",
        "    print(f\"Type: {type(image)}\")\n",
        "    print(f\"Data Type: {dtype}\")\n",
        "    print(f\"height, width, channels: ({height},{width},{channels})\")\n",
        "    print(f\"Total Pixels: {total_pixels}\")\n",
        "    print(f\"Channels: {channels}\")\n",
        "\n",
        "# Example Usage\n",
        "if __name__ == \"__main__\":\n",
        "    show_image(\"YES\")\n",
        "    show_image(\"NO\")\n",
        "    example_image_path = \"captured_images/YES/digit_D21115_20250210_152012_35.png\"\n",
        "    show_image_info(example_image_path)\n"
      ],
      "metadata": {
        "id": "hZENGQk85nhM"
      },
      "execution_count": null,
      "outputs": []
    },
    {
      "cell_type": "markdown",
      "source": [
        "walk through folders"
      ],
      "metadata": {
        "id": "DOEzW6oZ5pQd"
      }
    },
    {
      "cell_type": "code",
      "source": [
        "import os\n",
        "\n",
        "def walk_through_folders(base_path):\n",
        "    \"\"\"Walk through YES and NO folders and display structured output.\"\"\"\n",
        "    folders = ['YES', 'NO']  # Explicitly define subdirectories\n",
        "    folder_structure = {base_path: {}}\n",
        "\n",
        "    for folder in folders:\n",
        "        folder_path = os.path.join(base_path, folder)\n",
        "        if os.path.exists(folder_path):\n",
        "            folder_structure[base_path][folder] = []\n",
        "            for root, _, files in os.walk(folder_path):\n",
        "                for file in sorted(files):  # Ensures order consistency\n",
        "                    if file.lower().endswith(('png', 'jpg', 'jpeg')):  # Filter image files\n",
        "                        relative_path = os.path.relpath(os.path.join(root, file), base_path)\n",
        "                        folder_structure[base_path][folder].append(relative_path)\n",
        "\n",
        "    print(\"Captured Images Directory Structure:\")\n",
        "    for key, value in folder_structure.items():\n",
        "        print(f\"{key} [\")\n",
        "        for subfolder, images in value.items():\n",
        "            print(f\"  {subfolder} [\")\n",
        "            for image in images:\n",
        "                print(f\"    {image},\")\n",
        "            print(\"  ],\")\n",
        "        print(\"]\")\n",
        "\n",
        "if __name__ == \"__main__\":\n",
        "    base_directory = \"./captured_images\"  # Adjust based on your folder structure\n",
        "    walk_through_folders(base_directory)\n"
      ],
      "metadata": {
        "id": "3BoAMaJD5rtO"
      },
      "execution_count": null,
      "outputs": []
    }
  ]
}