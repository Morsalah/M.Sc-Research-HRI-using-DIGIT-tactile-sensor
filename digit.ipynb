{
  "nbformat": 4,
  "nbformat_minor": 0,
  "metadata": {
    "colab": {
      "provenance": [],
      "authorship_tag": "ABX9TyMCpo/N/cd/76erIspp9Lg8",
      "include_colab_link": true
    },
    "kernelspec": {
      "name": "python3",
      "display_name": "Python 3"
    },
    "language_info": {
      "name": "python"
    }
  },
  "cells": [
    {
      "cell_type": "markdown",
      "metadata": {
        "id": "view-in-github",
        "colab_type": "text"
      },
      "source": [
        "<a href=\"https://colab.research.google.com/github/Morsalah/M.Sc-Research-HRI-using-DIGIT-tactile-sensor/blob/main/digit.ipynb\" target=\"_parent\"><img src=\"https://colab.research.google.com/assets/colab-badge.svg\" alt=\"Open In Colab\"/></a>"
      ]
    },
    {
      "cell_type": "markdown",
      "source": [
        "capture_display.py"
      ],
      "metadata": {
        "id": "iLuh2bOPHqyU"
      }
    },
    {
      "cell_type": "code",
      "execution_count": null,
      "metadata": {
        "id": "VdZuamDKHjCt"
      },
      "outputs": [],
      "source": [
        "import cv2\n",
        "import numpy as np\n",
        "from digit_interface.digit import Digit\n",
        "\n",
        "# Initialize the DIGIT sensor\n",
        "digit = Digit(\"digit_1\", \"YOUR_SENSOR_SERIAL_NUMBER\")  # Replace with your actual serial number\n",
        "digit.connect()\n",
        "\n",
        "# Set resolution and frame rate\n",
        "digit.set_resolution(Digit.VGA)  # Options: QVGA, VGA\n",
        "digit.set_fps(Digit.FPS_30)      # Options: FPS_15, FPS_30, FPS_60\n",
        "\n",
        "print(\"Press 'q' to exit...\")\n",
        "\n",
        "while True:\n",
        "    # Get an image from the sensor\n",
        "    frame = digit.get_frame()\n",
        "\n",
        "    # Convert image to OpenCV format\n",
        "    image = np.array(frame)\n",
        "\n",
        "    # Display the image\n",
        "    cv2.imshow(\"DIGIT Sensor Image\", image)\n",
        "\n",
        "    # Exit when 'q' is pressed\n",
        "    if cv2.waitKey(1) & 0xFF == ord('q'):\n",
        "        break\n",
        "\n",
        "# Cleanup\n",
        "cv2.destroyAllWindows()\n"
      ]
    },
    {
      "cell_type": "markdown",
      "source": [
        "capture_save.py\n"
      ],
      "metadata": {
        "id": "oP-eFJ0iHtBc"
      }
    },
    {
      "cell_type": "code",
      "source": [
        "import cv2\n",
        "import numpy as np\n",
        "import time\n",
        "from digit_interface.digit import Digit\n",
        "\n",
        "# Initialize the DIGIT sensor\n",
        "digit = Digit(\"digit_1\", \"YOUR_SENSOR_SERIAL_NUMBER\")  # Replace with your actual serial number\n",
        "digit.connect()\n",
        "\n",
        "# Set resolution and frame rate\n",
        "digit.set_resolution(Digit.VGA)\n",
        "digit.set_fps(Digit.FPS_30)\n",
        "\n",
        "image_count = 0\n",
        "\n",
        "while True:\n",
        "    frame = digit.get_frame()\n",
        "    image = np.array(frame)\n",
        "\n",
        "    # Save the image\n",
        "    filename = f\"digit_image_{image_count}.png\"\n",
        "    cv2.imwrite(filename, image)\n",
        "    print(f\"Saved {filename}\")\n",
        "\n",
        "    image_count += 1\n",
        "\n",
        "    # Capture every 2 seconds\n",
        "    time.sleep(2)\n"
      ],
      "metadata": {
        "id": "lGdTCenUHlLd"
      },
      "execution_count": null,
      "outputs": []
    },
    {
      "cell_type": "markdown",
      "source": [
        "capture_video.py"
      ],
      "metadata": {
        "id": "roDj-8DWHx6l"
      }
    },
    {
      "cell_type": "code",
      "source": [
        "import cv2\n",
        "import numpy as np\n",
        "from digit_interface.digit import Digit\n",
        "\n",
        "# Initialize DIGIT sensor\n",
        "digit = Digit(\"digit_1\", \"YOUR_SENSOR_SERIAL_NUMBER\")\n",
        "digit.connect()\n",
        "digit.set_resolution(Digit.VGA)\n",
        "digit.set_fps(Digit.FPS_30)\n",
        "\n",
        "# Define video writer\n",
        "video_filename = \"digit_video.avi\"\n",
        "frame_size = (640, 480)  # Adjust if needed\n",
        "fps = 30\n",
        "\n",
        "fourcc = cv2.VideoWriter_fourcc(*\"XVID\")\n",
        "out = cv2.VideoWriter(video_filename, fourcc, fps, frame_size)\n",
        "\n",
        "print(\"Recording video... Press 'q' to stop.\")\n",
        "\n",
        "while True:\n",
        "    frame = digit.get_frame()\n",
        "    image = np.array(frame)\n",
        "\n",
        "    # Write frame to video file\n",
        "    out.write(image)\n",
        "\n",
        "    # Display live feed\n",
        "    cv2.imshow(\"DIGIT Video\", image)\n",
        "\n",
        "    if cv2.waitKey(1) & 0xFF == ord('q'):\n",
        "        break\n",
        "\n",
        "# Cleanup\n",
        "out.release()\n",
        "cv2.destroyAllWindows()\n",
        "print(f\"Video saved as {video_filename}\")\n"
      ],
      "metadata": {
        "id": "owuRFMtBHyqH"
      },
      "execution_count": null,
      "outputs": []
    },
    {
      "cell_type": "markdown",
      "source": [],
      "metadata": {
        "id": "EPzVtEj_H8Mu"
      }
    },
    {
      "cell_type": "code",
      "source": [],
      "metadata": {
        "id": "PR14fToDH8dg"
      },
      "execution_count": null,
      "outputs": []
    }
  ]
}