{
  "nbformat": 4,
  "nbformat_minor": 0,
  "metadata": {
    "colab": {
      "provenance": [],
      "authorship_tag": "ABX9TyMp8cYRIIYtkHug396USyMC",
      "include_colab_link": true
    },
    "kernelspec": {
      "name": "python3",
      "display_name": "Python 3"
    },
    "language_info": {
      "name": "python"
    }
  },
  "cells": [
    {
      "cell_type": "markdown",
      "metadata": {
        "id": "view-in-github",
        "colab_type": "text"
      },
      "source": [
        "<a href=\"https://colab.research.google.com/github/Morsalah/M.Sc-Research-HRI-using-DIGIT-tactile-sensor/blob/main/capturing_and_saving_images.ipynb\" target=\"_parent\"><img src=\"https://colab.research.google.com/assets/colab-badge.svg\" alt=\"Open In Colab\"/></a>"
      ]
    },
    {
      "cell_type": "code",
      "source": [
        "import os\n",
        "import time\n",
        "import logging\n",
        "from digit_interface.digit import Digit\n",
        "from digit_interface.digit_handler import DigitHandler\n",
        "\n",
        "# Set up logging\n",
        "logging.basicConfig(level=logging.DEBUG)\n",
        "logger = logging.getLogger(__name__)\n",
        "\n",
        "# Function to create a directory for saving images if it doesn't exist\n",
        "def create_directory(path: str):\n",
        "    if not os.path.exists(path):\n",
        "        os.makedirs(path)\n",
        "        logger.info(f\"Directory {path} created.\")\n",
        "    else:\n",
        "        logger.info(f\"Directory {path} already exists.\")\n",
        "\n",
        "# Function to capture and save frames from the DIGIT device\n",
        "def capture_and_save_images(serial: str, save_path: str, num_images: int = 10, interval: float = 1.0):\n",
        "    # Ensure the save directory exists\n",
        "    create_directory(save_path)\n",
        "\n",
        "    # Create the DIGIT object and connect to the device\n",
        "    digit = Digit(serial)\n",
        "    digit.connect()\n",
        "\n",
        "    # Capture and save images\n",
        "    for i in range(num_images):\n",
        "        try:\n",
        "            # Generate a timestamped filename for each image\n",
        "            timestamp = time.strftime(\"%Y%m%d_%H%M%S\")\n",
        "            image_filename = f\"{save_path}/digit_{serial}_{timestamp}_{i+1}.png\"\n",
        "\n",
        "            # Save the current frame\n",
        "            digit.save_frame(image_filename)\n",
        "            logger.info(f\"Image saved: {image_filename}\")\n",
        "\n",
        "            # Wait for the specified interval before capturing the next image\n",
        "            time.sleep(interval)\n",
        "\n",
        "        except Exception as e:\n",
        "            logger.error(f\"Error capturing image {i+1}: {e}\")\n",
        "\n",
        "    # Disconnect the device after capturing images\n",
        "    digit.disconnect()\n",
        "\n",
        "if __name__ == \"__main__\":\n",
        "    # Specify the serial number of your DIGIT device and the directory where images will be saved\n",
        "    serial_number = \"your_digit_device_serial_here\"\n",
        "    save_directory = \"./captured_images\"\n",
        "\n",
        "    # Capture and save 10 images with a 1-second interval\n",
        "    capture_and_save_images(serial_number, save_directory)\n"
      ],
      "metadata": {
        "id": "40Wz2s1521r9"
      },
      "execution_count": null,
      "outputs": []
    }
  ]
}