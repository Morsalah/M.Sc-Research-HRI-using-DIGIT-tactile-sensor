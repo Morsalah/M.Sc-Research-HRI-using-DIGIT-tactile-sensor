{
  "nbformat": 4,
  "nbformat_minor": 0,
  "metadata": {
    "colab": {
      "provenance": [],
      "authorship_tag": "ABX9TyOz6iE0jgEqkmh1jk8gaTiD",
      "include_colab_link": true
    },
    "kernelspec": {
      "name": "python3",
      "display_name": "Python 3"
    },
    "language_info": {
      "name": "python"
    }
  },
  "cells": [
    {
      "cell_type": "markdown",
      "metadata": {
        "id": "view-in-github",
        "colab_type": "text"
      },
      "source": [
        "<a href=\"https://colab.research.google.com/github/Morsalah/M.Sc-Research-HRI-using-DIGIT-tactile-sensor/blob/main/Intro.ipynb\" target=\"_parent\"><img src=\"https://colab.research.google.com/assets/colab-badge.svg\" alt=\"Open In Colab\"/></a>"
      ]
    },
    {
      "cell_type": "markdown",
      "source": [
        "1. Capturing Data from DIGIT"
      ],
      "metadata": {
        "id": "OfLrgaoRqUJq"
      }
    },
    {
      "cell_type": "code",
      "execution_count": null,
      "metadata": {
        "id": "A9tzItxzqBzS"
      },
      "outputs": [],
      "source": [
        "from digit_interface import Digit\n",
        "\n",
        "# Initialize DIGIT sensor\n",
        "digit = Digit(\"DIGIT_SERIAL_NUMBER\")  # Replace with your DIGIT serial number\n",
        "digit.connect()\n",
        "\n",
        "# Capture an image\n",
        "tactile_image = digit.get_frame()\n",
        "\n",
        "# Save the image for further processing\n",
        "import cv2\n",
        "cv2.imwrite(\"tactile_image.jpg\", tactile_image)\n"
      ]
    },
    {
      "cell_type": "markdown",
      "source": [
        "2. Preprocessing data\n",
        "* Normalize the tactile image data.\n",
        "* Convert images into tensors for training models."
      ],
      "metadata": {
        "id": "Zvpw6aysqfff"
      }
    },
    {
      "cell_type": "markdown",
      "source": [
        "3. Model Building\n",
        "* choosing the DL model (YOLO/CNN)"
      ],
      "metadata": {
        "id": "7Ih9Az7Sq3Xs"
      }
    },
    {
      "cell_type": "markdown",
      "source": [
        "4. Model Training"
      ],
      "metadata": {
        "id": "Va1DBiQGrLKf"
      }
    },
    {
      "cell_type": "markdown",
      "source": [
        "5. Testing and Evaluation"
      ],
      "metadata": {
        "id": "SNVToAcrq7wH"
      }
    }
  ]
}