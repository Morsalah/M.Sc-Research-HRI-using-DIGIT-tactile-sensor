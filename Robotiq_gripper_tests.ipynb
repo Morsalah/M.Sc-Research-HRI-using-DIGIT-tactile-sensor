{
  "nbformat": 4,
  "nbformat_minor": 0,
  "metadata": {
    "colab": {
      "provenance": [],
      "authorship_tag": "ABX9TyNlZ6YtdLef40NCX0r9TY3k",
      "include_colab_link": true
    },
    "kernelspec": {
      "name": "python3",
      "display_name": "Python 3"
    },
    "language_info": {
      "name": "python"
    }
  },
  "cells": [
    {
      "cell_type": "markdown",
      "metadata": {
        "id": "view-in-github",
        "colab_type": "text"
      },
      "source": [
        "<a href=\"https://colab.research.google.com/github/Morsalah/M.Sc-Research-HRI-using-DIGIT-tactile-sensor/blob/main/Robotiq_gripper_tests.ipynb\" target=\"_parent\"><img src=\"https://colab.research.google.com/assets/colab-badge.svg\" alt=\"Open In Colab\"/></a>"
      ]
    },
    {
      "cell_type": "code",
      "execution_count": null,
      "metadata": {
        "id": "14p7qGnJTtr8"
      },
      "outputs": [],
      "source": [
        "rostopic pub /command_robotiq_action/goal robotiq_2f_gripper_msgs/CommandRobotiqGripperActionGoal \"goal:\n",
        "  position: 0.03\n",
        "  speed: 0.05\n",
        "  force: 50.0\"\n",
        "\n",
        "\n",
        "rostopic pub /command_robotiq_action/goal robotiq_2f_gripper_msgs/CommandRobotiqGripperActionGoal \"goal:\n",
        "  position: 0.085\n",
        "  speed: 0.02\n",
        "  force: 100.0\"\n",
        "\n",
        "rostopic pub /command_robotiq_action/goal robotiq_2f_gripper_msgs/CommandRobotiqGripperActionGoal \"goal:\n",
        "  position: 0.085\n",
        "  speed: 0.05\n",
        "  force: 20.0\"\n",
        "\n",
        "for i in {1..5}\n",
        "do\n",
        "  rostopic pub /command_robotiq_action/goal robotiq_2f_gripper_msgs/CommandRobotiqGripperActionGoal \"goal:\n",
        "    position: 0.085\n",
        "    speed: 0.1\n",
        "    force: 100.0\"\n",
        "  sleep 1\n",
        "  rostopic pub /command_robotiq_action/goal robotiq_2f_gripper_msgs/CommandRobotiqGripperActionGoal \"goal:\n",
        "    position: 0.0\n",
        "    speed: 0.1\n",
        "    force: 100.0\"\n",
        "  sleep 1\n",
        "done\n",
        "\n",
        "rostopic echo /command_robotiq_action/status\n",
        "\n",
        "rostopic echo /joint_states\n",
        "   rostopic pub /command_robotiq_action/goal robotiq_2f_gripper_msgs/CommandRobotiqGripperActionGoal \"goal:\n",
        "     position: 0.085\n",
        "     speed: 0.02\n",
        "     force: 10.0\"\n",
        "\n"
      ]
    }
  ]
}