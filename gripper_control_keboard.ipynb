{
  "nbformat": 4,
  "nbformat_minor": 0,
  "metadata": {
    "colab": {
      "provenance": [],
      "authorship_tag": "ABX9TyNv1Wt/zDSHVpcFSqr0UZFO",
      "include_colab_link": true
    },
    "kernelspec": {
      "name": "python3",
      "display_name": "Python 3"
    },
    "language_info": {
      "name": "python"
    }
  },
  "cells": [
    {
      "cell_type": "markdown",
      "metadata": {
        "id": "view-in-github",
        "colab_type": "text"
      },
      "source": [
        "<a href=\"https://colab.research.google.com/github/Morsalah/M.Sc-Research-HRI-using-DIGIT-tactile-sensor/blob/main/gripper_control_keboard.ipynb\" target=\"_parent\"><img src=\"https://colab.research.google.com/assets/colab-badge.svg\" alt=\"Open In Colab\"/></a>"
      ]
    },
    {
      "cell_type": "code",
      "execution_count": null,
      "metadata": {
        "id": "AGsAQmMtgpqV"
      },
      "outputs": [],
      "source": [
        "#!/usr/bin/env python3\n",
        "import rospy\n",
        "import actionlib\n",
        "from robotiq_2f_gripper_msgs.msg import CommandRobotiqGripperAction, CommandRobotiqGripperGoal\n",
        "from pynput import keyboard\n",
        "\n",
        "# Default gripper parameters\n",
        "position = 0.085  # Fully open\n",
        "speed = 0.05\n",
        "force = 100.0\n",
        "\n",
        "def send_gripper_command(position, speed, force):\n",
        "    \"\"\" Sends a command to the gripper with the specified position, speed, and force \"\"\"\n",
        "    client = actionlib.SimpleActionClient('/command_robotiq_action', CommandRobotiqGripperAction)\n",
        "\n",
        "    rospy.loginfo(\"Waiting for the gripper action server...\")\n",
        "    client.wait_for_server()\n",
        "\n",
        "    goal = CommandRobotiqGripperGoal()\n",
        "    goal.position = position\n",
        "    goal.speed = speed\n",
        "    goal.force = force\n",
        "\n",
        "    rospy.loginfo(f\"Sending command - Position: {position:.2f}, Speed: {speed:.2f}, Force: {force:.2f}\")\n",
        "    client.send_goal(goal)\n",
        "    client.wait_for_result()\n",
        "\n",
        "    result = client.get_result()\n",
        "    rospy.loginfo(\"Gripper response: {}\".format(result))\n",
        "\n",
        "def on_press(key):\n",
        "    global position, speed, force\n",
        "\n",
        "    try:\n",
        "        if key.char == 'o':  # Open gripper\n",
        "            position = 0.085\n",
        "            rospy.loginfo(\"Opening gripper...\")\n",
        "\n",
        "        elif key.char == 'c':  # Close gripper\n",
        "            position = 0.00\n",
        "            rospy.loginfo(\"Closing gripper...\")\n",
        "\n",
        "        elif key.char == '+':  # Increase force\n",
        "            force = min(100.0, force + 5)\n",
        "            rospy.loginfo(f\"Increasing force: {force}\")\n",
        "\n",
        "        elif key.char == '-':  # Decrease force\n",
        "            force = max(10.0, force - 5)\n",
        "            rospy.loginfo(f\"Decreasing force: {force}\")\n",
        "\n",
        "        elif key.char == 's':  # Increase speed\n",
        "            speed = min(0.1, speed + 0.01)\n",
        "            rospy.loginfo(f\"Increasing speed: {speed}\")\n",
        "\n",
        "        elif key.char == 'd':  # Decrease speed\n",
        "            speed = max(0.01, speed - 0.01)\n",
        "            rospy.loginfo(f\"Decreasing speed: {speed}\")\n",
        "\n",
        "        send_gripper_command(position, speed, force)\n",
        "\n",
        "    except AttributeError:\n",
        "        pass\n",
        "\n",
        "def main():\n",
        "    rospy.init_node('gripper_keyboard_control')\n",
        "    rospy.loginfo(\"Keyboard Control for Robotiq 2F Gripper\")\n",
        "    rospy.loginfo(\"Press 'o' to open, 'c' to close, '+' to increase force, '-' to decrease force\")\n",
        "    rospy.loginfo(\"Press 's' to increase speed, 'd' to decrease speed\")\n",
        "    rospy.loginfo(\"Press ESC to exit.\")\n",
        "\n",
        "    listener = keyboard.Listener(on_press=on_press)\n",
        "    listener.start()\n",
        "    rospy.spin()\n",
        "\n",
        "if __name__ == '__main__':\n",
        "    main()\n"
      ]
    }
  ]
}